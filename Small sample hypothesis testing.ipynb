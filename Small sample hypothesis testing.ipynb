{
 "cells": [
  {
   "cell_type": "markdown",
   "metadata": {},
   "source": [
    "# Small sample hypothesis testing for a proportion (special topic)\n",
    "\n",
    "Section 6.5 of the OpenIntro Statistics textbook (3rd Edition) describes how simulation can assist when the success-failure condition is not met and the sample size is too small to apply the normal model. The step-by-step explanation of how to develop inferential analysis for a single proportion in this case is presented in the chapter.\n",
    "\n",
    "**Problem:** People providing an organ for donation sometimes seek the help of a special\\medical consultant\". These consultants assist the patient in all aspects of the surgery, with the goal of reducing the possibility of complications during the medical procedure and recovery. Patients might choose a consultant based in part on the historical complication rate of the consultant's clients. One consultant tried to attract patients by noting the average complication rate for liver donor surgeries in the US is about 10%, but her clients have only had 3 complications in the 62 liver donor surgeries she has facilitated. She claims this is strong evidence that her work meaningfully contributes to reducing complications (and\n",
    "therefore she should be hired!)."
   ]
  },
  {
   "cell_type": "code",
   "execution_count": 1,
   "metadata": {},
   "outputs": [],
   "source": [
    "#Imports\n",
    "import random\n",
    "import numpy as np\n",
    "import pandas as pd\n",
    "import matplotlib.pyplot as plt"
   ]
  },
  {
   "cell_type": "markdown",
   "metadata": {},
   "source": [
    "## When the success-failure condition is not met\n",
    "\n",
    "H0: There is no association between the consultant's contributions and the clients' complication rate. In statistical language, p = 0.10. \n",
    "\n",
    "HA: Patients who work with the consultant tend to have a complication rate lower than 10%, i.e. p < 0.10.\n",
    "\n",
    "The sample proportion: $p'$ = 3/62 = 0.048"
   ]
  },
  {
   "cell_type": "markdown",
   "metadata": {},
   "source": [
    "## Generating the null distribution and p-value: By simulation\n",
    "\n",
    "Each client can be simulated using a deck of cards. Take one red card, nine black cards, and mix them up. Then drawing a card is one way of simulating the chance a patient has a complication if the true complication rate is 10% for the data. If we do this 62 times and compute the proportion of patients with complications in the simulation, p', then this sample proportion is exactly a sample from the null distribution.\n",
    "\n",
    "One simulation isn't enough to get a sense of the null distribution; many simulation studies are needed. Roughly 10,000 seems sufficient. However, paying someone to simulate 10,000 studies by hand is a waste of time and money. Instead, simulations are typically programmed into a computer, which is much more efficient."
   ]
  },
  {
   "cell_type": "code",
   "execution_count": 2,
   "metadata": {},
   "outputs": [
    {
     "name": "stdout",
     "output_type": "stream",
     "text": [
      "There are 462 simulated sample with psim <= 0:048 from 10000.\n"
     ]
    },
    {
     "data": {
      "text/plain": [
       "Text(0, 0.5, 'Number of simulations')"
      ]
     },
     "execution_count": 2,
     "metadata": {},
     "output_type": "execute_result"
    },
    {
     "data": {
      "image/png": "[encoded data removed]",
      "text/plain": [
       "<Figure size 432x288 with 1 Axes>"
      ]
     },
     "metadata": {
      "needs_background": "light"
     },
     "output_type": "display_data"
    }
   ],
   "source": [
    "random.seed(27)\n",
    "p_sim=[]\n",
    "for ii in range(10000):\n",
    "\n",
    "    cards = ['Red','Black']\n",
    "    p_card= [0.1, 0.9]\n",
    "\n",
    "    card_drawn=[]\n",
    "    k=0\n",
    "    N=62\n",
    "\n",
    "    for i in range(N):\n",
    "        rand_card = np.random.choice(cards, p=p_card)\n",
    "        card_drawn.append(rand_card)\n",
    "        if rand_card =='Red':\n",
    "            k=k+1\n",
    "\n",
    "#     print(f\"The count of complication cases is {k}\")\n",
    "#     print(f\"The count of success cases {N-k}\")\n",
    "#     print(f\"The proportion of patients with complications in the simulation is {k/N}\")\n",
    "    p_sim.append(k/N)\n",
    "count = 0\n",
    "for i in p_sim: \n",
    "    if i <= 0.048 : \n",
    "        count = count + 1\n",
    "\n",
    "print(f\"There are {count} simulated sample with psim <= 0:048 from 10000.\")\n",
    "plt.hist(p_sim, bins=40)\n",
    "plt.xlabel('p_sim')\n",
    "plt.ylabel('Number of simulations')"
   ]
  },
  {
   "cell_type": "markdown",
   "metadata": {},
   "source": [
    "## Generating the exact null distribution and p-value : Binomial Model\n",
    "\n",
    "The number of successes in n independent cases can be described using the binomial model. Exactly k = 3 complications were observed in the n = 62 cases cited by the consultant. Since we are testing against the 10% national average, our null hypothesis is p = 0.10. We can compute the p-value by adding up the cases where there are 3 or fewer complications."
   ]
  },
  {
   "cell_type": "code",
   "execution_count": 3,
   "metadata": {},
   "outputs": [
    {
     "name": "stdout",
     "output_type": "stream",
     "text": [
      "The p-value using binomial model is: 0.1209787267464617\n"
     ]
    }
   ],
   "source": [
    "from scipy import stats\n",
    "p_sim= stats.binom_test(3, n=62, p=0.10, alternative='less')\n",
    "print(f\"The p-value using binomial model is: {p_sim}\")"
   ]
  },
  {
   "cell_type": "markdown",
   "metadata": {},
   "source": [
    "## Using simulation for goodness of fit tests (Chi-square test statistic $X^2$)\n",
    "\n",
    "Simulation methods may also be used to test goodness of fit. In short, we simulate a new sample based on the purported bin probabilities, then compute a chi-square test statistic. We do this many times (e.g. 10,000 times), and then examine the distribution of these simulated chi-square test statistics. This distribution will be a very precise null distribution for the test statistic if the probabilities are accurate."
   ]
  },
  {
   "cell_type": "markdown",
   "metadata": {},
   "source": [
    "\n",
    "\n",
    "|Days      |1     |2    | 3   |4    |5  |6  |7  |Total |\n",
    "|----------|------|-----|-----|-----|---|---|---|------|\n",
    "|Observed  | 1532 |760  |338  |194  |74 |33 |17 |2948  |\n",
    "|Geometric | 1569 |734  |343  |161  |75 |35 |31 |2948  |"
   ]
  },
  {
   "cell_type": "code",
   "execution_count": 4,
   "metadata": {},
   "outputs": [
    {
     "name": "stdout",
     "output_type": "stream",
     "text": [
      "The chi2 value is: 15.080572345926363\n",
      "The p-value is: 0.019639215904503887\n"
     ]
    }
   ],
   "source": [
    "# from scipy.stats import chi2_contingency\n",
    "from scipy.stats import chisquare\n",
    "Freq= [1,2,3,4,5,6,7]\n",
    "obs= [[1532, 760, 338, 194, 74, 33, 17],[1569, 734, 343, 161, 75, 35,  31]]\n",
    "observed= [1532, 760, 338, 194, 74, 33, 17]\n",
    "expected= [1569, 734, 343, 161, 75, 35,  31]\n",
    "# chi2_contingency(obs)\n",
    "chi2, p_value = chisquare(observed, expected)\n",
    "print(f\"The chi2 value is: {chi2}\")\n",
    "print(f\"The p-value is: {p_value}\")"
   ]
  },
  {
   "cell_type": "code",
   "execution_count": 5,
   "metadata": {},
   "outputs": [
    {
     "data": {
      "image/png": "[encoded data removed]",
      "text/plain": [
       "<Figure size 432x288 with 1 Axes>"
      ]
     },
     "metadata": {
      "needs_background": "light"
     },
     "output_type": "display_data"
    }
   ],
   "source": [
    "from scipy.stats import chi2\n",
    "\n",
    "df= 6\n",
    "fig, ax = plt.subplots(1, 1)\n",
    "rv = chi2(df)\n",
    "x = np.linspace(chi2.ppf(0.01, df), chi2.ppf(0.99, df), 100)\n",
    "ax.plot(x, chi2.pdf(x, df), 'r-', lw=5, alpha=0.6, label='observed chi2 pdf')\n",
    "r = chi2.rvs(df, size=1000)\n",
    "ax.hist(r, density=True, histtype='stepfilled', alpha=0.6)\n",
    "ax.legend(loc='best', frameon=False)\n",
    "plt.title('Chi-square test statistic')\n",
    "plt.xlim(0,30)\n",
    "plt.show()"
   ]
  }
 ],
 "metadata": {
  "kernelspec": {
   "display_name": "Python 3",
   "language": "python",
   "name": "python3"
  },
  "language_info": {
   "codemirror_mode": {
    "name": "ipython",
    "version": 3
   },
   "file_extension": ".py",
   "mimetype": "text/x-python",
   "name": "python",
   "nbconvert_exporter": "python",
   "pygments_lexer": "ipython3",
   "version": "3.6.8"
  }
 },
 "nbformat": 4,
 "nbformat_minor": 2
}
